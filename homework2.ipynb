{
  "nbformat": 4,
  "nbformat_minor": 0,
  "metadata": {
    "colab": {
      "name": "homework2.ipynb",
      "provenance": [],
      "authorship_tag": "ABX9TyONI45+FTopaSZ/diLsk5av",
      "include_colab_link": true
    },
    "kernelspec": {
      "name": "python3",
      "display_name": "Python 3"
    }
  },
  "cells": [
    {
      "cell_type": "markdown",
      "metadata": {
        "id": "view-in-github",
        "colab_type": "text"
      },
      "source": [
        "<a href=\"https://colab.research.google.com/github/tunahanyalcin/phys290/blob/master/homework2.ipynb\" target=\"_parent\"><img src=\"https://colab.research.google.com/assets/colab-badge.svg\" alt=\"Open In Colab\"/></a>"
      ]
    },
    {
      "cell_type": "markdown",
      "metadata": {
        "id": "Il6FAIVOhqP0",
        "colab_type": "text"
      },
      "source": [
        "#Problem 1"
      ]
    },
    {
      "cell_type": "code",
      "metadata": {
        "id": "9vpmBbCVhdCB",
        "colab_type": "code",
        "colab": {}
      },
      "source": [
        "#Since I have no homemate, ea=1 (sad face)\n",
        "#This makes my s = 0\n",
        "#But for the sake of the homework I'll count my computer as my house mate"
      ],
      "execution_count": 0,
      "outputs": []
    },
    {
      "cell_type": "markdown",
      "metadata": {
        "id": "gfbomhEaifuF",
        "colab_type": "text"
      },
      "source": [
        "s = ea(1 + $\\frac{ma}{t_{m}}$ + $t_{b}* ea)$ $e^{-ea*KS}$ <br>\n",
        "ea  : home mate # <br>\n",
        "ma : musıcıan home mate # <br>\n",
        "tb : period for cleaning dishes <br>\n",
        "tm : time passed since the music instrument started to be learned <br>\n",
        "KS : # of times that a cake has been made in the apartment <br>"
      ]
    },
    {
      "cell_type": "code",
      "metadata": {
        "id": "GfiruW7TjOa-",
        "colab_type": "code",
        "outputId": "07e42adb-a0d7-4d11-ee58-c5e6f874e99f",
        "colab": {
          "base_uri": "https://localhost:8080/",
          "height": 34
        }
      },
      "source": [
        "import numpy as np\n",
        "import math\n",
        "\n",
        "def s(ea, ma, tm, tb, KS):\n",
        "  inside = 1 + (ma/tm) + (tb * ea)\n",
        "  expo = math.exp((-ea*KS))\n",
        "  full = ea*inside*expo\n",
        "  return full\n",
        "\n",
        "s(1, 0, 1, 1, 0)"
      ],
      "execution_count": 0,
      "outputs": [
        {
          "output_type": "execute_result",
          "data": {
            "text/plain": [
              "2.0"
            ]
          },
          "metadata": {
            "tags": []
          },
          "execution_count": 1
        }
      ]
    },
    {
      "cell_type": "markdown",
      "metadata": {
        "id": "bCJNcLVNkslX",
        "colab_type": "text"
      },
      "source": [
        "N = s + $e^{-s*KS}$ ($\\frac{M}{EH}$($\\frac{s^c}{s^c +1}$))$^{-1}$ <br>\n",
        "s  : the above function<br>\n",
        "KS : the number of times neighbor bring cake and milk.<br>\n",
        "M : music preference of the neighbor<br>\n",
        "EH :the number of pet the neighbor have<br>\n",
        "c : the number of children the neighbor have"
      ]
    },
    {
      "cell_type": "code",
      "metadata": {
        "id": "A7s8zDFtlX00",
        "colab_type": "code",
        "outputId": "08ef8537-1b21-4034-b74c-8ee2194379bb",
        "colab": {
          "base_uri": "https://localhost:8080/",
          "height": 34
        }
      },
      "source": [
        "#I have no downstairs neighbours, so I assumed it as 0.\n",
        "\n",
        "def n(s, KS, M, EH, c):\n",
        "  expo2 = math.exp((-s*KS))\n",
        "  parantez1 = M/EH\n",
        "  parantez2 = (s**c)/((s**c)+1)\n",
        "  parantezler = 1/(parantez1 * parantez2)\n",
        "  full2= s + expo2*parantezler\n",
        "  return full2\n",
        "\n",
        "n(2, 0, 2, 1, 2)"
      ],
      "execution_count": 0,
      "outputs": [
        {
          "output_type": "execute_result",
          "data": {
            "text/plain": [
              "2.625"
            ]
          },
          "metadata": {
            "tags": []
          },
          "execution_count": 3
        }
      ]
    },
    {
      "cell_type": "markdown",
      "metadata": {
        "id": "h1Xequgon9oD",
        "colab_type": "text"
      },
      "source": [
        "#Problem 2"
      ]
    },
    {
      "cell_type": "code",
      "metadata": {
        "id": "zF62crmmoCe7",
        "colab_type": "code",
        "colab": {}
      },
      "source": [
        ""
      ],
      "execution_count": 0,
      "outputs": []
    },
    {
      "cell_type": "markdown",
      "metadata": {
        "id": "rhFp9vWwArIs",
        "colab_type": "text"
      },
      "source": [
        "#Problem 3"
      ]
    },
    {
      "cell_type": "code",
      "metadata": {
        "id": "Ui5LXUDuAswS",
        "colab_type": "code",
        "outputId": "260ae005-fb29-4171-9868-66244064bdb6",
        "colab": {
          "base_uri": "https://localhost:8080/",
          "height": 50
        }
      },
      "source": [
        "#37 degrees -> 0.645 radians\n",
        "#53 degrees -> 0.925 radians\n",
        "g = 9.81\n",
        "me = np.array([1.70, 25*np.cos(0.645), 25*np.sin(0.645)] )\n",
        "friend = np.array([1.85, 25*np.cos(0.925), 25*np.sin(0.925)])\n",
        "\n",
        "#To find h_max, we need to find where the velocities are 0.\n",
        "# t = V_y(initial) / g\n",
        "\n",
        "def f(Vy):\n",
        "  t = Vy / g\n",
        "  return t \n",
        "\n",
        "t0 = np.array([f(me[2]), f(friend[2])])\n",
        "\n",
        "\n",
        "#To find h_max we are going to use the following equation:\n",
        "#h_max = y_inital + V_y(initial)*t - (g/2)*t^2\n",
        "\n",
        "def h(y, V, tf):\n",
        "  h_max = y + V * tf - (g/2)*(tf**2)\n",
        "  return h_max\n",
        "\n",
        "print(h(me[0], me[2], t0[0]))  #This is my h_max\n",
        "h(friend[0], friend[2], t0[1])   #This is my friend's\n",
        "\n"
      ],
      "execution_count": 0,
      "outputs": [
        {
          "output_type": "stream",
          "text": [
            "13.213747530317315\n"
          ],
          "name": "stdout"
        },
        {
          "output_type": "execute_result",
          "data": {
            "text/plain": [
              "22.167122942541305"
            ]
          },
          "metadata": {
            "tags": []
          },
          "execution_count": 23
        }
      ]
    },
    {
      "cell_type": "markdown",
      "metadata": {
        "id": "RNjg5zwuUuB6",
        "colab_type": "text"
      },
      "source": [
        "#Problem 4"
      ]
    },
    {
      "cell_type": "markdown",
      "metadata": {
        "id": "AFAeQbDras-D",
        "colab_type": "text"
      },
      "source": [
        "f(r) = $\\frac{1}{1+r}\\sigma$ <br>\n",
        "J(R) = $\\int_{0}^{R}$ f(r) dV"
      ]
    },
    {
      "cell_type": "code",
      "metadata": {
        "id": "HAFkL4hBUvei",
        "colab_type": "code",
        "outputId": "888492e1-ab86-42a8-c545-cd776d803ec6",
        "colab": {
          "base_uri": "https://localhost:8080/",
          "height": 34
        }
      },
      "source": [
        "from scipy.integrate import tplquad\n",
        "\n",
        "for i in range(5:11):\n",
        "  volume = tplquad(lambda phi, theta, r:r**2 * np.sin(theta), 0, i, lambda theta: 0, lambda theta: np.pi,lambda theta, phi: 0, lambda theta, phi: 2*np.pi)"
      ],
      "execution_count": 0,
      "outputs": [
        {
          "output_type": "execute_result",
          "data": {
            "text/plain": [
              "(113.09733552923254, 1.2556326592831072e-12)"
            ]
          },
          "metadata": {
            "tags": []
          },
          "execution_count": 26
        }
      ]
    },
    {
      "cell_type": "code",
      "metadata": {
        "id": "GG_UcBmkeRxL",
        "colab_type": "code",
        "outputId": "27ff2fc8-3d40-4d5b-c753-818b27d8cc8d",
        "colab": {
          "base_uri": "https://localhost:8080/",
          "height": 265
        }
      },
      "source": [
        "import matplotlib.pyplot as plt\n",
        "\n",
        "# limits for radius\n",
        "r1 = 0.\n",
        "#r2 = 1.\n",
        "# limits for theta\n",
        "t1 = 0\n",
        "t2 = 2*np.pi\n",
        "# limits for phi\n",
        "p1 = 0\n",
        "p2 = np.pi\n",
        "\n",
        "'''Print out the function for the user to see'''\n",
        "\n",
        "#Empty lists for plotting\n",
        "x= []\n",
        "y= []\n",
        "def diff_volume(p,t,r):\n",
        "    return ((r**2)/(1+r))*t\n",
        "    \n",
        "\n",
        "for i in range(6):\n",
        "  r2 = i + 5\n",
        "  x.append(r2)\n",
        "  #print(r2)\n",
        "  J = tplquad(diff_volume, r1, r2, lambda r:   t1, lambda r:   t2,\n",
        "                                      lambda r,t: p1, lambda r,t: p2)[0]\n",
        "  y.append(J)\n",
        "\n",
        "plt.plot(x, y)\n",
        "plt.show()\n"
      ],
      "execution_count": 0,
      "outputs": [
        {
          "output_type": "display_data",
          "data": {
            "image/png": "[encoded data removed]",
            "text/plain": [
              "<Figure size 432x288 with 1 Axes>"
            ]
          },
          "metadata": {
            "tags": [],
            "needs_background": "light"
          }
        }
      ]
    },
    {
      "cell_type": "markdown",
      "metadata": {
        "id": "3ahCRQqmiPM1",
        "colab_type": "text"
      },
      "source": [
        "#Problem 5"
      ]
    },
    {
      "cell_type": "code",
      "metadata": {
        "id": "4DRXekjAiQmF",
        "colab_type": "code",
        "colab": {}
      },
      "source": [
        ""
      ],
      "execution_count": 0,
      "outputs": []
    }
  ]
}