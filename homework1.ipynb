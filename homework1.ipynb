{
  "nbformat": 4,
  "nbformat_minor": 0,
  "metadata": {
    "colab": {
      "name": "homework1.ipynb",
      "provenance": [],
      "collapsed_sections": [],
      "authorship_tag": "ABX9TyNHoUhaFaM27sPSCkLA/uvi",
      "include_colab_link": true
    },
    "kernelspec": {
      "name": "python3",
      "display_name": "Python 3"
    }
  },
  "cells": [
    {
      "cell_type": "markdown",
      "metadata": {
        "id": "view-in-github",
        "colab_type": "text"
      },
      "source": [
        "<a href=\"https://colab.research.google.com/github/tunahanyalcin/phys290/blob/master/homework1.ipynb\" target=\"_parent\"><img src=\"https://colab.research.google.com/assets/colab-badge.svg\" alt=\"Open In Colab\"/></a>"
      ]
    },
    {
      "cell_type": "code",
      "metadata": {
        "id": "ghgAWoDvGk9P",
        "colab_type": "code",
        "outputId": "47ce9f1b-be14-4ee1-f2fe-ff5330029ab4",
        "colab": {
          "base_uri": "https://localhost:8080/",
          "height": 50
        }
      },
      "source": [
        "#Question 1 \n",
        "#Import numpy for the arange and exponential function\n",
        "import numpy as np\n",
        "\n",
        "#exp fn is np.exp(x)\n",
        "\n",
        "#y = np.exp(-x^2)\n",
        "\n",
        "x = np.arange(-1, 1, 0.2) #In the arange fn, first one is starting, second is end, last is the step\n",
        "y = np.exp(-x**2)\n",
        "print(y)\n",
        "\n",
        "#This is the vectorized form of for loop. We use this method because it runs much faster"
      ],
      "execution_count": 62,
      "outputs": [
        {
          "output_type": "stream",
          "text": [
            "[0.36787944 0.52729242 0.69767633 0.85214379 0.96078944 1.\n",
            " 0.96078944 0.85214379 0.69767633 0.52729242]\n"
          ],
          "name": "stdout"
        }
      ]
    },
    {
      "cell_type": "code",
      "metadata": {
        "id": "N5LiKYh_Oi_2",
        "colab_type": "code",
        "outputId": "5cfffdfb-3abf-42c3-90ca-d9a91a590bac",
        "colab": {
          "base_uri": "https://localhost:8080/",
          "height": 50
        }
      },
      "source": [
        "#Question 2\n",
        "mu = \"\\u03BC\"\n",
        "import scipy.special as sp\n",
        "from scipy import integrate\n",
        "import numpy as np\n",
        "#y = sp.factorial(3.2)\n",
        "#print(y)\n",
        "\n",
        "#Our function \n",
        "y = \"(e**\\u03BC)*(\\u03BC**n)/n!\"\n",
        "print(\"The fn to be integrated is, y=\", y)\n",
        "\n",
        "def f(n):\n",
        "  mu = 2\n",
        "  return np.exp(mu)*(mu**n)/(sp.factorial(n))\n",
        "\n",
        "\n",
        "integrate.quad(f, 0, 11)"
      ],
      "execution_count": 65,
      "outputs": [
        {
          "output_type": "stream",
          "text": [
            "The fn to be integrated is, y= (e**μ)*(μ**n)/n!\n"
          ],
          "name": "stdout"
        },
        {
          "output_type": "execute_result",
          "data": {
            "text/plain": [
              "(51.70529721292615, 6.508042298477312e-07)"
            ]
          },
          "metadata": {
            "tags": []
          },
          "execution_count": 65
        }
      ]
    },
    {
      "cell_type": "code",
      "metadata": {
        "id": "nv0uVkySoRG5",
        "colab_type": "code",
        "outputId": "83c21d33-d855-4200-cbe2-ae5316f6085d",
        "colab": {
          "base_uri": "https://localhost:8080/",
          "height": 295
        }
      },
      "source": [
        "#Question 3 \n",
        "import numpy as np\n",
        "import matplotlib.pyplot as plt\n",
        "import matplotlib\n",
        "#from scipy import spline\n",
        "\n",
        "x = np.arange(-5, 5, 0.01)\n",
        "y = np.exp(-x**2)\n",
        "\n",
        "fig, ax = plt.subplots()\n",
        "ax.plot(x, y, \"r\")\n",
        "\n",
        "ax.set(xlabel='x', ylabel='y')\n",
        "ax.set_title ( \"y versus x Graph\",size = 12, weight = \"bold\")\n",
        "\n",
        "ax.grid()\n",
        "\n",
        "plt.show()\n",
        "\n",
        "#x_new = np.linspace(1, 4, 300)\n",
        "#a_Spline = interpolate.make_interp_spline(x, y)\n",
        "#y_new = a_Spline(x_new)\n",
        "\n",
        "#plt.plot(x_new, y_new)\n",
        "\n"
      ],
      "execution_count": 68,
      "outputs": [
        {
          "output_type": "display_data",
          "data": {
            "image/png": "[encoded data removed]",
            "text/plain": [
              "<Figure size 432x288 with 1 Axes>"
            ]
          },
          "metadata": {
            "tags": []
          }
        }
      ]
    },
    {
      "cell_type": "code",
      "metadata": {
        "id": "brFE2MbwbmPL",
        "colab_type": "code",
        "outputId": "34a8a5d8-f2cd-40c2-de5c-70f77e10b686",
        "colab": {
          "base_uri": "https://localhost:8080/",
          "height": 134
        }
      },
      "source": [
        "#Question 4\n",
        "\n",
        "print(\"You need to enter 5 integers\")\n",
        "a = int(input(\"Enter first:\"))\n",
        "b = int(input(\"Enter second:\"))\n",
        "c = int(input(\"Enter third:\"))\n",
        "d = int(input(\"Enter fourth:\"))\n",
        "e = int(input(\"Enter fifth:\"))\n",
        "\n",
        "odds = []\n",
        "num = (a, b, c, d, e)\n",
        "for item in num:\n",
        "  if item%2 == 1:\n",
        "    odds.append(item)\n",
        "\n",
        "if len(odds) != 0:\n",
        "  print(\"Largest odd number you entered is \" ,max(odds))\n",
        "elif len(odds) == 0:\n",
        "  print(\"You did not enter any odd number!\")\n"
      ],
      "execution_count": 69,
      "outputs": [
        {
          "output_type": "stream",
          "text": [
            "You need to enter 5 integers\n",
            "Enter first:100\n",
            "Enter second:101\n",
            "Enter third:999\n",
            "Enter fourth:1801\n",
            "Enter fifth:1\n",
            "Largest odd number you entered is  1801\n"
          ],
          "name": "stdout"
        }
      ]
    },
    {
      "cell_type": "code",
      "metadata": {
        "id": "xqCoZUuRfYlf",
        "colab_type": "code",
        "outputId": "b0675b83-cd3d-4fba-fae3-6313aaa20583",
        "colab": {
          "base_uri": "https://localhost:8080/",
          "height": 84
        }
      },
      "source": [
        "#Question 5 \n",
        "import numpy as np\n",
        "\n",
        "num = int(input(\"Enter an integer: \"))\n",
        "root = int(np.sqrt(num))\n",
        "pwr = int(num**2)\n",
        "cond = int(root**pwr)\n",
        "if 0<pwr<4 and cond == num:\n",
        "  print(\"The root is \", root)\n",
        "  print(\"The second power is \", pwr)\n",
        "  print(\"yey\")\n",
        "else:\n",
        "  print(\"noo:(\")\n",
        "\n"
      ],
      "execution_count": 72,
      "outputs": [
        {
          "output_type": "stream",
          "text": [
            "Enter an integer: 1\n",
            "The root is  1\n",
            "The second power is  1\n",
            "yey\n"
          ],
          "name": "stdout"
        }
      ]
    },
    {
      "cell_type": "code",
      "metadata": {
        "id": "LX8id5sNUsaC",
        "colab_type": "code",
        "outputId": "78c612d2-49a2-4954-ef86-5e4e596177aa",
        "colab": {
          "base_uri": "https://localhost:8080/",
          "height": 101
        }
      },
      "source": [
        "#Question 6\n",
        "import time\n",
        "\n",
        "lst = []\n",
        "num = []\n",
        "fin = []\n",
        "\n",
        "print(\"This function will tell you the maximum number you have entered.\")\n",
        "\n",
        "time.sleep(2.5)\n",
        "\n",
        "print(\"Enter a number and press enter, if you are done, enter q.\")\n",
        "\n",
        "time.sleep(2)\n",
        "\n",
        "while lst != \"q\" :\n",
        "  lst = input(\"Enter a number: \")\n",
        "  num.append(lst)\n",
        "\n",
        "num.remove(\"q\")\n",
        "\n",
        "for i in num:\n",
        "  i = float(i)\n",
        "  fin.append(i)\n",
        "\n",
        "print(max(fin))"
      ],
      "execution_count": 76,
      "outputs": [
        {
          "output_type": "stream",
          "text": [
            "This function will tell you the maximum number you have entered.\n",
            "Enter a number and press enter, if you are done, enter q.\n",
            "Enter a number: 2\n",
            "Enter a number: q\n",
            "2.0\n"
          ],
          "name": "stdout"
        }
      ]
    },
    {
      "cell_type": "code",
      "metadata": {
        "id": "yRRrz-l4WMH7",
        "colab_type": "code",
        "colab": {
          "base_uri": "https://localhost:8080/",
          "height": 34
        },
        "outputId": "1f3c2bb7-745a-4622-e921-fe6d259e510b"
      },
      "source": [
        "#Question 7\n",
        "\n",
        "s = \"1.23, 2.4, 3.123\"\n",
        "lst = s.split(\",\")\n",
        "sum = 0\n",
        "\n",
        "for i in lst:\n",
        "  i = float(i)\n",
        "  sum = sum + i\n",
        "\n",
        "print(sum)"
      ],
      "execution_count": 40,
      "outputs": [
        {
          "output_type": "stream",
          "text": [
            "6.753\n"
          ],
          "name": "stdout"
        }
      ]
    },
    {
      "cell_type": "code",
      "metadata": {
        "id": "gqIlJBL_14Cb",
        "colab_type": "code",
        "colab": {
          "base_uri": "https://localhost:8080/",
          "height": 151
        },
        "outputId": "783969f7-e194-4fd8-d85a-57e408e89c55"
      },
      "source": [
        "#Question 8\n",
        "import time\n",
        "\n",
        "lst = []\n",
        "num = []\n",
        "tot = 0\n",
        "n = 0\n",
        "\n",
        "print(\"This code gives you the average of the numbers you have entered. \")\n",
        "\n",
        "time.sleep(2.5)\n",
        "\n",
        "print(\"Enter a number and press enter, if you are done, enter q.\")\n",
        "\n",
        "time.sleep(2.5)\n",
        "\n",
        "while lst != \"q\" :\n",
        "  lst = input(\"Enter a number: \")\n",
        "  num.append(lst)\n",
        "\n",
        "num.remove(\"q\")\n",
        "\n",
        "for i in num : \n",
        "  i = float(i)\n",
        "  tot = tot + i\n",
        "  n += 1\n",
        "\n",
        "#average = sum of the numbers divided by the total number of elements\n",
        "avg = tot / n\n",
        "print(avg)\n",
        "\n",
        "  \n"
      ],
      "execution_count": 53,
      "outputs": [
        {
          "output_type": "stream",
          "text": [
            "This code gives you the average of the numbers you have entered. \n",
            "Enter a number and press enter, if you are done, enter q.\n",
            "Enter a number: 123\n",
            "Enter a number: 246\n",
            "Enter a number: 369\n",
            "Enter a number: q\n",
            "['123', '246', '369']\n",
            "246.0\n"
          ],
          "name": "stdout"
        }
      ]
    },
    {
      "cell_type": "code",
      "metadata": {
        "id": "_fkw2kx8_FP4",
        "colab_type": "code",
        "colab": {
          "base_uri": "https://localhost:8080/",
          "height": 555
        },
        "outputId": "617b9067-80b0-4cab-be68-af99fea0f406"
      },
      "source": [
        "#Question 9\n",
        "import time\n",
        "\n",
        "lst = []\n",
        "num = []\n",
        "odd = []\n",
        "even = []\n",
        "negative = []\n",
        "\n",
        "print(\"This code seperates the numbers you have given and puts them in seperate lists as even, odd and negative numbers\")\n",
        "\n",
        "time.sleep(2.5)\n",
        "\n",
        "print(\"Enter a number and press Enter. If you are done, type q and press Enter\")\n",
        "\n",
        "time.sleep(2)\n",
        "\n",
        "while lst != \"q\" :\n",
        "  lst = input(\"Enter a number: \")\n",
        "  num.append(lst)\n",
        "\n",
        "num.remove(\"q\")\n",
        "\n",
        "for i in num : \n",
        "  i = float(i)\n",
        "  if i<0:\n",
        "    negative.append(i)\n",
        "  elif i%2 == 1:\n",
        "    odd.append(i)\n",
        "  elif i%2 == 0:\n",
        "    even.append(i)\n",
        "\n",
        "print(\"Odd numbers are\" , odd)\n",
        "time.sleep(0.5)\n",
        "print(\"Even numbers are \", even)\n",
        "time.sleep(0.5)\n",
        "print(\"Negative numbers are \", negative)\n",
        "  \n",
        "\n"
      ],
      "execution_count": 78,
      "outputs": [
        {
          "output_type": "stream",
          "text": [
            "This code seperates the numbers you have given and puts them in seperate lists as even, odd and negative numbers\n",
            "Enter a number and press Enter. If you are done, type q and press Enter\n"
          ],
          "name": "stdout"
        },
        {
          "output_type": "error",
          "ename": "KeyboardInterrupt",
          "evalue": "ignored",
          "traceback": [
            "\u001b[0;31m---------------------------------------------------------------------------\u001b[0m",
            "\u001b[0;31mKeyboardInterrupt\u001b[0m                         Traceback (most recent call last)",
            "\u001b[0;32m/usr/local/lib/python3.6/dist-packages/ipykernel/kernelbase.py\u001b[0m in \u001b[0;36m_input_request\u001b[0;34m(self, prompt, ident, parent, password)\u001b[0m\n\u001b[1;32m    729\u001b[0m             \u001b[0;32mtry\u001b[0m\u001b[0;34m:\u001b[0m\u001b[0;34m\u001b[0m\u001b[0;34m\u001b[0m\u001b[0m\n\u001b[0;32m--> 730\u001b[0;31m                 \u001b[0mident\u001b[0m\u001b[0;34m,\u001b[0m \u001b[0mreply\u001b[0m \u001b[0;34m=\u001b[0m \u001b[0mself\u001b[0m\u001b[0;34m.\u001b[0m\u001b[0msession\u001b[0m\u001b[0;34m.\u001b[0m\u001b[0mrecv\u001b[0m\u001b[0;34m(\u001b[0m\u001b[0mself\u001b[0m\u001b[0;34m.\u001b[0m\u001b[0mstdin_socket\u001b[0m\u001b[0;34m,\u001b[0m \u001b[0;36m0\u001b[0m\u001b[0;34m)\u001b[0m\u001b[0;34m\u001b[0m\u001b[0;34m\u001b[0m\u001b[0m\n\u001b[0m\u001b[1;32m    731\u001b[0m             \u001b[0;32mexcept\u001b[0m \u001b[0mException\u001b[0m\u001b[0;34m:\u001b[0m\u001b[0;34m\u001b[0m\u001b[0;34m\u001b[0m\u001b[0m\n",
            "\u001b[0;32m/usr/local/lib/python3.6/dist-packages/jupyter_client/session.py\u001b[0m in \u001b[0;36mrecv\u001b[0;34m(self, socket, mode, content, copy)\u001b[0m\n\u001b[1;32m    802\u001b[0m         \u001b[0;32mtry\u001b[0m\u001b[0;34m:\u001b[0m\u001b[0;34m\u001b[0m\u001b[0;34m\u001b[0m\u001b[0m\n\u001b[0;32m--> 803\u001b[0;31m             \u001b[0mmsg_list\u001b[0m \u001b[0;34m=\u001b[0m \u001b[0msocket\u001b[0m\u001b[0;34m.\u001b[0m\u001b[0mrecv_multipart\u001b[0m\u001b[0;34m(\u001b[0m\u001b[0mmode\u001b[0m\u001b[0;34m,\u001b[0m \u001b[0mcopy\u001b[0m\u001b[0;34m=\u001b[0m\u001b[0mcopy\u001b[0m\u001b[0;34m)\u001b[0m\u001b[0;34m\u001b[0m\u001b[0;34m\u001b[0m\u001b[0m\n\u001b[0m\u001b[1;32m    804\u001b[0m         \u001b[0;32mexcept\u001b[0m \u001b[0mzmq\u001b[0m\u001b[0;34m.\u001b[0m\u001b[0mZMQError\u001b[0m \u001b[0;32mas\u001b[0m \u001b[0me\u001b[0m\u001b[0;34m:\u001b[0m\u001b[0;34m\u001b[0m\u001b[0;34m\u001b[0m\u001b[0m\n",
            "\u001b[0;32m/usr/local/lib/python3.6/dist-packages/zmq/sugar/socket.py\u001b[0m in \u001b[0;36mrecv_multipart\u001b[0;34m(self, flags, copy, track)\u001b[0m\n\u001b[1;32m    465\u001b[0m         \"\"\"\n\u001b[0;32m--> 466\u001b[0;31m         \u001b[0mparts\u001b[0m \u001b[0;34m=\u001b[0m \u001b[0;34m[\u001b[0m\u001b[0mself\u001b[0m\u001b[0;34m.\u001b[0m\u001b[0mrecv\u001b[0m\u001b[0;34m(\u001b[0m\u001b[0mflags\u001b[0m\u001b[0;34m,\u001b[0m \u001b[0mcopy\u001b[0m\u001b[0;34m=\u001b[0m\u001b[0mcopy\u001b[0m\u001b[0;34m,\u001b[0m \u001b[0mtrack\u001b[0m\u001b[0;34m=\u001b[0m\u001b[0mtrack\u001b[0m\u001b[0;34m)\u001b[0m\u001b[0;34m]\u001b[0m\u001b[0;34m\u001b[0m\u001b[0;34m\u001b[0m\u001b[0m\n\u001b[0m\u001b[1;32m    467\u001b[0m         \u001b[0;31m# have first part already, only loop while more to receive\u001b[0m\u001b[0;34m\u001b[0m\u001b[0;34m\u001b[0m\u001b[0;34m\u001b[0m\u001b[0m\n",
            "\u001b[0;32mzmq/backend/cython/socket.pyx\u001b[0m in \u001b[0;36mzmq.backend.cython.socket.Socket.recv\u001b[0;34m()\u001b[0m\n",
            "\u001b[0;32mzmq/backend/cython/socket.pyx\u001b[0m in \u001b[0;36mzmq.backend.cython.socket.Socket.recv\u001b[0;34m()\u001b[0m\n",
            "\u001b[0;32mzmq/backend/cython/socket.pyx\u001b[0m in \u001b[0;36mzmq.backend.cython.socket._recv_copy\u001b[0;34m()\u001b[0m\n",
            "\u001b[0;32m/usr/local/lib/python3.6/dist-packages/zmq/backend/cython/checkrc.pxd\u001b[0m in \u001b[0;36mzmq.backend.cython.checkrc._check_rc\u001b[0;34m()\u001b[0m\n",
            "\u001b[0;31mKeyboardInterrupt\u001b[0m: ",
            "\nDuring handling of the above exception, another exception occurred:\n",
            "\u001b[0;31mKeyboardInterrupt\u001b[0m                         Traceback (most recent call last)",
            "\u001b[0;32m<ipython-input-78-10ce7ffaeb8d>\u001b[0m in \u001b[0;36m<module>\u001b[0;34m()\u001b[0m\n\u001b[1;32m     16\u001b[0m \u001b[0;34m\u001b[0m\u001b[0m\n\u001b[1;32m     17\u001b[0m \u001b[0;32mwhile\u001b[0m \u001b[0mlst\u001b[0m \u001b[0;34m!=\u001b[0m \u001b[0;34m\"q\"\u001b[0m \u001b[0;34m:\u001b[0m\u001b[0;34m\u001b[0m\u001b[0;34m\u001b[0m\u001b[0m\n\u001b[0;32m---> 18\u001b[0;31m   \u001b[0mlst\u001b[0m \u001b[0;34m=\u001b[0m \u001b[0minput\u001b[0m\u001b[0;34m(\u001b[0m\u001b[0;34m\"Enter a number: \"\u001b[0m\u001b[0;34m)\u001b[0m\u001b[0;34m\u001b[0m\u001b[0;34m\u001b[0m\u001b[0m\n\u001b[0m\u001b[1;32m     19\u001b[0m   \u001b[0mnum\u001b[0m\u001b[0;34m.\u001b[0m\u001b[0mappend\u001b[0m\u001b[0;34m(\u001b[0m\u001b[0mlst\u001b[0m\u001b[0;34m)\u001b[0m\u001b[0;34m\u001b[0m\u001b[0;34m\u001b[0m\u001b[0m\n\u001b[1;32m     20\u001b[0m \u001b[0;34m\u001b[0m\u001b[0m\n",
            "\u001b[0;32m/usr/local/lib/python3.6/dist-packages/ipykernel/kernelbase.py\u001b[0m in \u001b[0;36mraw_input\u001b[0;34m(self, prompt)\u001b[0m\n\u001b[1;32m    703\u001b[0m             \u001b[0mself\u001b[0m\u001b[0;34m.\u001b[0m\u001b[0m_parent_ident\u001b[0m\u001b[0;34m,\u001b[0m\u001b[0;34m\u001b[0m\u001b[0;34m\u001b[0m\u001b[0m\n\u001b[1;32m    704\u001b[0m             \u001b[0mself\u001b[0m\u001b[0;34m.\u001b[0m\u001b[0m_parent_header\u001b[0m\u001b[0;34m,\u001b[0m\u001b[0;34m\u001b[0m\u001b[0;34m\u001b[0m\u001b[0m\n\u001b[0;32m--> 705\u001b[0;31m             \u001b[0mpassword\u001b[0m\u001b[0;34m=\u001b[0m\u001b[0;32mFalse\u001b[0m\u001b[0;34m,\u001b[0m\u001b[0;34m\u001b[0m\u001b[0;34m\u001b[0m\u001b[0m\n\u001b[0m\u001b[1;32m    706\u001b[0m         )\n\u001b[1;32m    707\u001b[0m \u001b[0;34m\u001b[0m\u001b[0m\n",
            "\u001b[0;32m/usr/local/lib/python3.6/dist-packages/ipykernel/kernelbase.py\u001b[0m in \u001b[0;36m_input_request\u001b[0;34m(self, prompt, ident, parent, password)\u001b[0m\n\u001b[1;32m    733\u001b[0m             \u001b[0;32mexcept\u001b[0m \u001b[0mKeyboardInterrupt\u001b[0m\u001b[0;34m:\u001b[0m\u001b[0;34m\u001b[0m\u001b[0;34m\u001b[0m\u001b[0m\n\u001b[1;32m    734\u001b[0m                 \u001b[0;31m# re-raise KeyboardInterrupt, to truncate traceback\u001b[0m\u001b[0;34m\u001b[0m\u001b[0;34m\u001b[0m\u001b[0;34m\u001b[0m\u001b[0m\n\u001b[0;32m--> 735\u001b[0;31m                 \u001b[0;32mraise\u001b[0m \u001b[0mKeyboardInterrupt\u001b[0m\u001b[0;34m\u001b[0m\u001b[0;34m\u001b[0m\u001b[0m\n\u001b[0m\u001b[1;32m    736\u001b[0m             \u001b[0;32melse\u001b[0m\u001b[0;34m:\u001b[0m\u001b[0;34m\u001b[0m\u001b[0;34m\u001b[0m\u001b[0m\n\u001b[1;32m    737\u001b[0m                 \u001b[0;32mbreak\u001b[0m\u001b[0;34m\u001b[0m\u001b[0;34m\u001b[0m\u001b[0m\n",
            "\u001b[0;31mKeyboardInterrupt\u001b[0m: "
          ]
        }
      ]
    }
  ]
}